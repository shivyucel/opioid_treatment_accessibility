{
 "cells": [
  {
   "cell_type": "code",
   "execution_count": 486,
   "id": "2d2b6979-56a3-4210-8e39-e7efe3e032dd",
   "metadata": {},
   "outputs": [],
   "source": [
    "import geopandas as gpd\n",
    "import pandas as pd\n",
    "import matplotlib.pyplot as plt\n",
    "import numpy as np\n",
    "data_dir = '/Users/shivyucel/Documents/projects/opioid_accessibility/opioid_accessibility/data/toronto_data/'"
   ]
  },
  {
   "cell_type": "code",
   "execution_count": 487,
   "id": "1f1963fd-206f-4245-bc46-1ea97d64bea2",
   "metadata": {},
   "outputs": [],
   "source": [
    "DA_shp = gpd.read_file(data_dir + 'toronto_shapes/DA_geometries/DA_shp.shp')"
   ]
  },
  {
   "cell_type": "code",
   "execution_count": 488,
   "id": "01aced81-129c-4361-bb3e-2a7e0389d06c",
   "metadata": {},
   "outputs": [],
   "source": [
    "toronto_proper = DA_shp[DA_shp['CD_UID'] == '3520']"
   ]
  },
  {
   "cell_type": "code",
   "execution_count": 513,
   "id": "94cf6f67-c467-418c-9b30-82847ff00ff0",
   "metadata": {},
   "outputs": [
    {
     "name": "stderr",
     "output_type": "stream",
     "text": [
      "/Users/shivyucel/opt/anaconda3/envs/geo_env/lib/python3.11/site-packages/openpyxl/worksheet/header_footer.py:48: UserWarning: Cannot parse header or footer so it will be ignored\n",
      "  warn(\"\"\"Cannot parse header or footer so it will be ignored\"\"\")\n"
     ]
    }
   ],
   "source": [
    "da_users = pd.read_csv(data_dir + 'da_users.csv')\n",
    "travel_times = gpd.read_file(data_dir + 'results/travel_time_diff/travel_time_diff_2.shp')\n",
    "msdi = pd.read_excel(data_dir + 'deprivation_data/MSDI.xlsx', sheet_name='DATA')"
   ]
  },
  {
   "cell_type": "code",
   "execution_count": 514,
   "id": "8d32b802-082e-4671-8a43-37ac50b285dd",
   "metadata": {},
   "outputs": [],
   "source": [
    "clean_times = gpd.read_file(data_dir + 'clean_files/clean_times/clean_times.shp')"
   ]
  },
  {
   "cell_type": "code",
   "execution_count": 515,
   "id": "5b0cfda2-9393-4bcf-bfdf-34f9447c0739",
   "metadata": {},
   "outputs": [
    {
     "data": {
      "text/plain": [
       "<Derived Projected CRS: EPSG:3347>\n",
       "Name: NAD83 / Statistics Canada Lambert\n",
       "Axis Info [cartesian]:\n",
       "- E[east]: Easting (metre)\n",
       "- N[north]: Northing (metre)\n",
       "Area of Use:\n",
       "- name: Canada - onshore and offshore - Alberta; British Columbia; Manitoba; New Brunswick; Newfoundland and Labrador; Northwest Territories; Nova Scotia; Nunavut; Ontario; Prince Edward Island; Quebec; Saskatchewan; Yukon.\n",
       "- bounds: (-141.01, 38.21, -40.73, 86.46)\n",
       "Coordinate Operation:\n",
       "- name: Statistics Canada Lambert\n",
       "- method: Lambert Conic Conformal (2SP)\n",
       "Datum: North American Datum 1983\n",
       "- Ellipsoid: GRS 1980\n",
       "- Prime Meridian: Greenwich"
      ]
     },
     "execution_count": 515,
     "metadata": {},
     "output_type": "execute_result"
    }
   ],
   "source": [
    "clean_times.crs"
   ]
  },
  {
   "cell_type": "code",
   "execution_count": 516,
   "id": "3e95ae97-18da-4eb7-809c-ff313cfb99b6",
   "metadata": {},
   "outputs": [
    {
     "name": "stderr",
     "output_type": "stream",
     "text": [
      "/Users/shivyucel/opt/anaconda3/envs/geo_env/lib/python3.11/site-packages/geopandas/geodataframe.py:1443: SettingWithCopyWarning: \n",
      "A value is trying to be set on a copy of a slice from a DataFrame.\n",
      "Try using .loc[row_indexer,col_indexer] = value instead\n",
      "\n",
      "See the caveats in the documentation: https://pandas.pydata.org/pandas-docs/stable/user_guide/indexing.html#returning-a-view-versus-a-copy\n",
      "  super().__setitem__(key, value)\n"
     ]
    }
   ],
   "source": [
    "toronto_proper['GeoUID'] = toronto_proper['GeoUID'].astype(int)"
   ]
  },
  {
   "cell_type": "code",
   "execution_count": 517,
   "id": "e62e5cc1-2d13-4f5b-bfea-fade1b1c55a9",
   "metadata": {},
   "outputs": [],
   "source": [
    "msdi = msdi.merge(toronto_proper, left_on='DA', right_on='GeoUID')"
   ]
  },
  {
   "cell_type": "code",
   "execution_count": 518,
   "id": "c4a13138-5c81-4b05-a60d-f0a379e2c9be",
   "metadata": {},
   "outputs": [],
   "source": [
    "msdi['mat_quant'] = pd.qcut(msdi['SCOREMAT'], 5, labels=False)\n",
    "msdi['soc_quant'] = pd.qcut(msdi['SCORESOC'], 5, labels=False) \n",
    "\n",
    "\n",
    "msdi['mat_quant'] = msdi['mat_quant'] + 1\n",
    "msdi['soc_quant'] = msdi['soc_quant'] + 1"
   ]
  },
  {
   "cell_type": "code",
   "execution_count": 519,
   "id": "89ee9977-e5dd-4b1f-a34c-c0e9d0bef184",
   "metadata": {},
   "outputs": [],
   "source": [
    "msdi = msdi[['DA', 'mat_quant', 'soc_quant', 'DAPOP2016']]"
   ]
  },
  {
   "cell_type": "code",
   "execution_count": 520,
   "id": "55657915-232b-47b9-9754-b9bfa026950e",
   "metadata": {},
   "outputs": [
    {
     "data": {
      "text/plain": [
       "5.0    716\n",
       "1.0    716\n",
       "4.0    715\n",
       "3.0    715\n",
       "2.0    715\n",
       "Name: mat_quant, dtype: int64"
      ]
     },
     "execution_count": 520,
     "metadata": {},
     "output_type": "execute_result"
    }
   ],
   "source": [
    "msdi['mat_quant'].value_counts()"
   ]
  },
  {
   "cell_type": "code",
   "execution_count": 521,
   "id": "1ad8f6c0-2f8c-472b-9b1b-9026893d0c7d",
   "metadata": {},
   "outputs": [],
   "source": [
    "full_table = travel_times.merge(msdi, left_on='GeoUID', right_on='DA')"
   ]
  },
  {
   "cell_type": "code",
   "execution_count": 522,
   "id": "0b791ab8-8f59-4a8e-8630-75d3adde4de6",
   "metadata": {},
   "outputs": [],
   "source": [
    "full_table = full_table.merge(da_users, left_on='GeoUID', right_on='DAUID', how='left')"
   ]
  },
  {
   "cell_type": "code",
   "execution_count": 523,
   "id": "19b0aaf0-8e45-4677-ae95-5cbc307255b7",
   "metadata": {
    "tags": []
   },
   "outputs": [],
   "source": [
    "full_table['da_opioid_users'].replace(np. nan,0, inplace=True) "
   ]
  },
  {
   "cell_type": "code",
   "execution_count": 524,
   "id": "5b2db490-6e21-4c47-92fb-eff10e05351a",
   "metadata": {},
   "outputs": [],
   "source": [
    "clean_times = clean_times.merge(da_users, on='DAUID', how='left')"
   ]
  },
  {
   "cell_type": "code",
   "execution_count": 525,
   "id": "f4be1020-ade9-4071-906b-644fbecf42e4",
   "metadata": {},
   "outputs": [],
   "source": [
    "clean_times['da_opioid_users'].replace(np. nan,0, inplace=True) "
   ]
  },
  {
   "cell_type": "code",
   "execution_count": 526,
   "id": "6adedc0e-1bbe-4f82-96f7-4ee120041b5c",
   "metadata": {},
   "outputs": [],
   "source": [
    "clean_times = clean_times.merge(msdi, left_on='DAUID', right_on='DA')"
   ]
  },
  {
   "cell_type": "code",
   "execution_count": 527,
   "id": "d671eeb3-2259-4a2a-892f-f68faa98bc9e",
   "metadata": {},
   "outputs": [],
   "source": [
    "clean_times.rename(columns={'da_opioid_users':'opioid_pop'}, inplace=True)"
   ]
  },
  {
   "cell_type": "code",
   "execution_count": 528,
   "id": "ef6fc42c-a024-4153-ad7b-6702a77aa30c",
   "metadata": {},
   "outputs": [],
   "source": [
    "clean_times.drop('Unnamed: 0', axis=1, inplace=True)"
   ]
  },
  {
   "cell_type": "code",
   "execution_count": 529,
   "id": "730987d4-b74f-4e76-9074-a2bf8dc1befc",
   "metadata": {},
   "outputs": [],
   "source": [
    "clean_times.to_file(data_dir + 'clean_files/clean_times_v2/clean_times_v2.shp')"
   ]
  },
  {
   "cell_type": "code",
   "execution_count": 532,
   "id": "7fc1b380-9902-4ee0-a6d9-ae9ae701fa49",
   "metadata": {},
   "outputs": [
    {
     "data": {
      "text/html": [
       "<div>\n",
       "<style scoped>\n",
       "    .dataframe tbody tr th:only-of-type {\n",
       "        vertical-align: middle;\n",
       "    }\n",
       "\n",
       "    .dataframe tbody tr th {\n",
       "        vertical-align: top;\n",
       "    }\n",
       "\n",
       "    .dataframe thead th {\n",
       "        text-align: right;\n",
       "    }\n",
       "</style>\n",
       "<table border=\"1\" class=\"dataframe\">\n",
       "  <thead>\n",
       "    <tr style=\"text-align: right;\">\n",
       "      <th></th>\n",
       "      <th>wed_0800</th>\n",
       "      <th>sat_0900</th>\n",
       "      <th>wed_1100</th>\n",
       "      <th>wed_1500</th>\n",
       "      <th>DAUID</th>\n",
       "      <th>reg_name</th>\n",
       "      <th>area_km</th>\n",
       "      <th>pop</th>\n",
       "      <th>avg_inc</th>\n",
       "      <th>pop_nocar</th>\n",
       "      <th>low_inc</th>\n",
       "      <th>geometry</th>\n",
       "      <th>opioid_pop</th>\n",
       "      <th>DA</th>\n",
       "      <th>mat_quant</th>\n",
       "      <th>soc_quant</th>\n",
       "      <th>DAPOP2016</th>\n",
       "    </tr>\n",
       "  </thead>\n",
       "  <tbody>\n",
       "    <tr>\n",
       "      <th>0</th>\n",
       "      <td>0.0</td>\n",
       "      <td>0.0</td>\n",
       "      <td>-3.0</td>\n",
       "      <td>-1.0</td>\n",
       "      <td>35200002</td>\n",
       "      <td>Toronto</td>\n",
       "      <td>0.05037</td>\n",
       "      <td>356</td>\n",
       "      <td>79431.0</td>\n",
       "      <td>55.071330</td>\n",
       "      <td>25.0</td>\n",
       "      <td>POLYGON ((7235605.171 950635.097, 7235659.626 ...</td>\n",
       "      <td>1.726067</td>\n",
       "      <td>35200002</td>\n",
       "      <td>4.0</td>\n",
       "      <td>2.0</td>\n",
       "      <td>356.0</td>\n",
       "    </tr>\n",
       "    <tr>\n",
       "      <th>1</th>\n",
       "      <td>1.0</td>\n",
       "      <td>0.0</td>\n",
       "      <td>-3.0</td>\n",
       "      <td>-1.0</td>\n",
       "      <td>35200003</td>\n",
       "      <td>Toronto</td>\n",
       "      <td>0.04675</td>\n",
       "      <td>335</td>\n",
       "      <td>97695.0</td>\n",
       "      <td>0.000000</td>\n",
       "      <td>35.0</td>\n",
       "      <td>POLYGON ((7235794.929 950295.603, 7235846.557 ...</td>\n",
       "      <td>1.624248</td>\n",
       "      <td>35200003</td>\n",
       "      <td>3.0</td>\n",
       "      <td>1.0</td>\n",
       "      <td>335.0</td>\n",
       "    </tr>\n",
       "    <tr>\n",
       "      <th>2</th>\n",
       "      <td>0.0</td>\n",
       "      <td>0.0</td>\n",
       "      <td>-3.0</td>\n",
       "      <td>-2.0</td>\n",
       "      <td>35200004</td>\n",
       "      <td>Toronto</td>\n",
       "      <td>0.04878</td>\n",
       "      <td>384</td>\n",
       "      <td>66349.0</td>\n",
       "      <td>0.000000</td>\n",
       "      <td>40.0</td>\n",
       "      <td>POLYGON ((7235509.514 950062.337, 7235507.757 ...</td>\n",
       "      <td>1.861825</td>\n",
       "      <td>35200004</td>\n",
       "      <td>5.0</td>\n",
       "      <td>1.0</td>\n",
       "      <td>384.0</td>\n",
       "    </tr>\n",
       "    <tr>\n",
       "      <th>3</th>\n",
       "      <td>-1.0</td>\n",
       "      <td>0.0</td>\n",
       "      <td>-3.0</td>\n",
       "      <td>-1.0</td>\n",
       "      <td>35200005</td>\n",
       "      <td>Toronto</td>\n",
       "      <td>0.04429</td>\n",
       "      <td>408</td>\n",
       "      <td>97356.0</td>\n",
       "      <td>0.000000</td>\n",
       "      <td>25.0</td>\n",
       "      <td>POLYGON ((7235628.734 949921.829, 7235606.546 ...</td>\n",
       "      <td>1.978189</td>\n",
       "      <td>35200005</td>\n",
       "      <td>5.0</td>\n",
       "      <td>1.0</td>\n",
       "      <td>408.0</td>\n",
       "    </tr>\n",
       "    <tr>\n",
       "      <th>4</th>\n",
       "      <td>-1.0</td>\n",
       "      <td>0.0</td>\n",
       "      <td>-3.0</td>\n",
       "      <td>-1.0</td>\n",
       "      <td>35200006</td>\n",
       "      <td>Toronto</td>\n",
       "      <td>0.05717</td>\n",
       "      <td>527</td>\n",
       "      <td>80188.0</td>\n",
       "      <td>0.000000</td>\n",
       "      <td>40.0</td>\n",
       "      <td>POLYGON ((7235705.871 949866.543, 7235688.483 ...</td>\n",
       "      <td>2.555161</td>\n",
       "      <td>35200006</td>\n",
       "      <td>4.0</td>\n",
       "      <td>1.0</td>\n",
       "      <td>527.0</td>\n",
       "    </tr>\n",
       "    <tr>\n",
       "      <th>...</th>\n",
       "      <td>...</td>\n",
       "      <td>...</td>\n",
       "      <td>...</td>\n",
       "      <td>...</td>\n",
       "      <td>...</td>\n",
       "      <td>...</td>\n",
       "      <td>...</td>\n",
       "      <td>...</td>\n",
       "      <td>...</td>\n",
       "      <td>...</td>\n",
       "      <td>...</td>\n",
       "      <td>...</td>\n",
       "      <td>...</td>\n",
       "      <td>...</td>\n",
       "      <td>...</td>\n",
       "      <td>...</td>\n",
       "      <td>...</td>\n",
       "    </tr>\n",
       "    <tr>\n",
       "      <th>3697</th>\n",
       "      <td>0.0</td>\n",
       "      <td>0.0</td>\n",
       "      <td>0.0</td>\n",
       "      <td>0.0</td>\n",
       "      <td>35204902</td>\n",
       "      <td>Toronto</td>\n",
       "      <td>0.01994</td>\n",
       "      <td>498</td>\n",
       "      <td>55037.0</td>\n",
       "      <td>321.265496</td>\n",
       "      <td>165.0</td>\n",
       "      <td>POLYGON ((7224597.117 929588.000, 7224434.543 ...</td>\n",
       "      <td>102.996009</td>\n",
       "      <td>35204902</td>\n",
       "      <td>1.0</td>\n",
       "      <td>4.0</td>\n",
       "      <td>498.0</td>\n",
       "    </tr>\n",
       "    <tr>\n",
       "      <th>3698</th>\n",
       "      <td>2.0</td>\n",
       "      <td>3.0</td>\n",
       "      <td>2.0</td>\n",
       "      <td>3.0</td>\n",
       "      <td>35204903</td>\n",
       "      <td>Toronto</td>\n",
       "      <td>0.63493</td>\n",
       "      <td>3495</td>\n",
       "      <td>48495.0</td>\n",
       "      <td>494.285900</td>\n",
       "      <td>1170.0</td>\n",
       "      <td>POLYGON ((7222961.389 941366.423, 7222950.120 ...</td>\n",
       "      <td>30.687147</td>\n",
       "      <td>35204903</td>\n",
       "      <td>2.0</td>\n",
       "      <td>4.0</td>\n",
       "      <td>3495.0</td>\n",
       "    </tr>\n",
       "    <tr>\n",
       "      <th>3699</th>\n",
       "      <td>2.0</td>\n",
       "      <td>2.0</td>\n",
       "      <td>1.0</td>\n",
       "      <td>2.0</td>\n",
       "      <td>35204904</td>\n",
       "      <td>Toronto</td>\n",
       "      <td>0.08969</td>\n",
       "      <td>626</td>\n",
       "      <td>51243.0</td>\n",
       "      <td>292.351880</td>\n",
       "      <td>175.0</td>\n",
       "      <td>POLYGON ((7222913.800 941347.529, 7222901.400 ...</td>\n",
       "      <td>5.496467</td>\n",
       "      <td>35204904</td>\n",
       "      <td>3.0</td>\n",
       "      <td>4.0</td>\n",
       "      <td>626.0</td>\n",
       "    </tr>\n",
       "    <tr>\n",
       "      <th>3700</th>\n",
       "      <td>1.0</td>\n",
       "      <td>1.0</td>\n",
       "      <td>1.0</td>\n",
       "      <td>1.0</td>\n",
       "      <td>35204905</td>\n",
       "      <td>Toronto</td>\n",
       "      <td>1.08844</td>\n",
       "      <td>1774</td>\n",
       "      <td>50783.0</td>\n",
       "      <td>307.684076</td>\n",
       "      <td>525.0</td>\n",
       "      <td>POLYGON ((7225992.023 942215.857, 7225991.686 ...</td>\n",
       "      <td>97.502994</td>\n",
       "      <td>35204905</td>\n",
       "      <td>2.0</td>\n",
       "      <td>5.0</td>\n",
       "      <td>1774.0</td>\n",
       "    </tr>\n",
       "    <tr>\n",
       "      <th>3701</th>\n",
       "      <td>-1.0</td>\n",
       "      <td>-1.0</td>\n",
       "      <td>-1.0</td>\n",
       "      <td>-1.0</td>\n",
       "      <td>35204906</td>\n",
       "      <td>Toronto</td>\n",
       "      <td>0.18723</td>\n",
       "      <td>1255</td>\n",
       "      <td>57559.0</td>\n",
       "      <td>450.630796</td>\n",
       "      <td>340.0</td>\n",
       "      <td>POLYGON ((7225758.623 942740.994, 7225781.086 ...</td>\n",
       "      <td>68.977597</td>\n",
       "      <td>35204906</td>\n",
       "      <td>4.0</td>\n",
       "      <td>3.0</td>\n",
       "      <td>1255.0</td>\n",
       "    </tr>\n",
       "  </tbody>\n",
       "</table>\n",
       "<p>3702 rows × 17 columns</p>\n",
       "</div>"
      ],
      "text/plain": [
       "      wed_0800  sat_0900  wed_1100  wed_1500     DAUID reg_name  area_km  \\\n",
       "0          0.0       0.0      -3.0      -1.0  35200002  Toronto  0.05037   \n",
       "1          1.0       0.0      -3.0      -1.0  35200003  Toronto  0.04675   \n",
       "2          0.0       0.0      -3.0      -2.0  35200004  Toronto  0.04878   \n",
       "3         -1.0       0.0      -3.0      -1.0  35200005  Toronto  0.04429   \n",
       "4         -1.0       0.0      -3.0      -1.0  35200006  Toronto  0.05717   \n",
       "...        ...       ...       ...       ...       ...      ...      ...   \n",
       "3697       0.0       0.0       0.0       0.0  35204902  Toronto  0.01994   \n",
       "3698       2.0       3.0       2.0       3.0  35204903  Toronto  0.63493   \n",
       "3699       2.0       2.0       1.0       2.0  35204904  Toronto  0.08969   \n",
       "3700       1.0       1.0       1.0       1.0  35204905  Toronto  1.08844   \n",
       "3701      -1.0      -1.0      -1.0      -1.0  35204906  Toronto  0.18723   \n",
       "\n",
       "       pop  avg_inc   pop_nocar  low_inc  \\\n",
       "0      356  79431.0   55.071330     25.0   \n",
       "1      335  97695.0    0.000000     35.0   \n",
       "2      384  66349.0    0.000000     40.0   \n",
       "3      408  97356.0    0.000000     25.0   \n",
       "4      527  80188.0    0.000000     40.0   \n",
       "...    ...      ...         ...      ...   \n",
       "3697   498  55037.0  321.265496    165.0   \n",
       "3698  3495  48495.0  494.285900   1170.0   \n",
       "3699   626  51243.0  292.351880    175.0   \n",
       "3700  1774  50783.0  307.684076    525.0   \n",
       "3701  1255  57559.0  450.630796    340.0   \n",
       "\n",
       "                                               geometry  opioid_pop        DA  \\\n",
       "0     POLYGON ((7235605.171 950635.097, 7235659.626 ...    1.726067  35200002   \n",
       "1     POLYGON ((7235794.929 950295.603, 7235846.557 ...    1.624248  35200003   \n",
       "2     POLYGON ((7235509.514 950062.337, 7235507.757 ...    1.861825  35200004   \n",
       "3     POLYGON ((7235628.734 949921.829, 7235606.546 ...    1.978189  35200005   \n",
       "4     POLYGON ((7235705.871 949866.543, 7235688.483 ...    2.555161  35200006   \n",
       "...                                                 ...         ...       ...   \n",
       "3697  POLYGON ((7224597.117 929588.000, 7224434.543 ...  102.996009  35204902   \n",
       "3698  POLYGON ((7222961.389 941366.423, 7222950.120 ...   30.687147  35204903   \n",
       "3699  POLYGON ((7222913.800 941347.529, 7222901.400 ...    5.496467  35204904   \n",
       "3700  POLYGON ((7225992.023 942215.857, 7225991.686 ...   97.502994  35204905   \n",
       "3701  POLYGON ((7225758.623 942740.994, 7225781.086 ...   68.977597  35204906   \n",
       "\n",
       "      mat_quant  soc_quant  DAPOP2016  \n",
       "0           4.0        2.0      356.0  \n",
       "1           3.0        1.0      335.0  \n",
       "2           5.0        1.0      384.0  \n",
       "3           5.0        1.0      408.0  \n",
       "4           4.0        1.0      527.0  \n",
       "...         ...        ...        ...  \n",
       "3697        1.0        4.0      498.0  \n",
       "3698        2.0        4.0     3495.0  \n",
       "3699        3.0        4.0      626.0  \n",
       "3700        2.0        5.0     1774.0  \n",
       "3701        4.0        3.0     1255.0  \n",
       "\n",
       "[3702 rows x 17 columns]"
      ]
     },
     "execution_count": 532,
     "metadata": {},
     "output_type": "execute_result"
    }
   ],
   "source": [
    "clean_times"
   ]
  },
  {
   "cell_type": "code",
   "execution_count": 530,
   "id": "f11136ef-46ce-4f2a-a09c-aa16658833ee",
   "metadata": {},
   "outputs": [
    {
     "data": {
      "text/plain": [
       "3699"
      ]
     },
     "execution_count": 530,
     "metadata": {},
     "output_type": "execute_result"
    }
   ],
   "source": [
    "len(full_table['fromId'].unique())"
   ]
  },
  {
   "cell_type": "code",
   "execution_count": 437,
   "id": "83840024-d266-4ae2-9fff-4a8e3363b22f",
   "metadata": {},
   "outputs": [],
   "source": [
    "df_0800 = full_table[full_table['time'] == '0800']\n",
    "df_1100 = full_table[full_table['time'] == '1100']\n",
    "df_1500 = full_table[full_table['time'] == '1500']\n",
    "df_0900_sat = full_table[full_table['time'] == '0900_sat']\n",
    "\n",
    "all_dfs = {'0800': df_0800, '1100': df_1100, '1500': df_1500, '0900_sat': df_0900_sat}"
   ]
  },
  {
   "cell_type": "code",
   "execution_count": 438,
   "id": "0f6ea650-db9a-4a8e-bbb4-7300686671ca",
   "metadata": {},
   "outputs": [
    {
     "data": {
      "text/plain": [
       "3699"
      ]
     },
     "execution_count": 438,
     "metadata": {},
     "output_type": "execute_result"
    }
   ],
   "source": [
    "len(full_table['fromId'].unique())"
   ]
  },
  {
   "cell_type": "code",
   "execution_count": 471,
   "id": "e9e18f45-ad80-4de8-9541-8f25ede7d391",
   "metadata": {},
   "outputs": [],
   "source": [
    "results_mat = {}\n",
    "for key in all_dfs.keys():\n",
    "    df = all_dfs[key]\n",
    "    \n",
    "    thres_20 = df[(df['tt_2019'] < 20) & (df['tt_2020'] >= 20)]\n",
    "    thres_30 = df[(df['tt_2019'] < 30) & (df['tt_2020'] >= 30)]\n",
    "    increase_10 = df[(df['diff'] >= 10)]\n",
    "    \n",
    "\n",
    "\n",
    "    count_da_thres_20 = thres_20.groupby('mat_quant')['fromId'].count().reset_index()\n",
    "    count_pop_thres_20 = thres_20.groupby('mat_quant')[['DAPOP2016', 'da_opioid_users']].sum().reset_index()\n",
    "\n",
    "    results_mat[key + '_thres_20'] = count_da_thres_20.merge(count_pop_thres_20, on='mat_quant')\n",
    "    \n",
    "    \n",
    "\n",
    "    \n",
    "    count_da_thres_30 = thres_30.groupby('mat_quant')['fromId'].count().reset_index()\n",
    "    count_pop_thres_30 = thres_30.groupby('mat_quant')[['DAPOP2016', 'da_opioid_users']].sum().reset_index()\n",
    "    \n",
    "    results_mat[key + '_thres_30'] = count_da_thres_30.merge(count_pop_thres_30, on='mat_quant')\n",
    "    \n",
    "    \n",
    "    \n",
    "\n",
    "    count_da_increase_10 = increase_10.groupby('mat_quant')['fromId'].count().reset_index()\n",
    "    count_pop_increase_10 = increase_10.groupby('mat_quant')[['DAPOP2016', 'da_opioid_users']].sum().reset_index()\n",
    "    \n",
    "    results_mat[key + '_increase_10'] = count_da_increase_10.merge(count_pop_increase_10, on='mat_quant')"
   ]
  },
  {
   "cell_type": "code",
   "execution_count": 472,
   "id": "2b58cf76-fafc-4584-93ca-94df016dbfa2",
   "metadata": {},
   "outputs": [
    {
     "data": {
      "text/plain": [
       "dict_keys(['0800_thres_20', '0800_thres_30', '0800_increase_10', '1100_thres_20', '1100_thres_30', '1100_increase_10', '1500_thres_20', '1500_thres_30', '1500_increase_10', '0900_sat_thres_20', '0900_sat_thres_30', '0900_sat_increase_10'])"
      ]
     },
     "execution_count": 472,
     "metadata": {},
     "output_type": "execute_result"
    }
   ],
   "source": [
    "results_mat.keys()"
   ]
  },
  {
   "cell_type": "code",
   "execution_count": 473,
   "id": "f41a3132-b8ab-4024-8d0a-5ada451a5647",
   "metadata": {},
   "outputs": [
    {
     "name": "stderr",
     "output_type": "stream",
     "text": [
      "/var/folders/8g/qp1k_1g91m5f2m9pypxwxdhh0000gn/T/ipykernel_48246/1281457017.py:5: FutureWarning: The frame.append method is deprecated and will be removed from pandas in a future version. Use pandas.concat instead.\n",
      "  result_df = result_df.append(results_mat[key])\n",
      "/var/folders/8g/qp1k_1g91m5f2m9pypxwxdhh0000gn/T/ipykernel_48246/1281457017.py:5: FutureWarning: The frame.append method is deprecated and will be removed from pandas in a future version. Use pandas.concat instead.\n",
      "  result_df = result_df.append(results_mat[key])\n",
      "/var/folders/8g/qp1k_1g91m5f2m9pypxwxdhh0000gn/T/ipykernel_48246/1281457017.py:5: FutureWarning: The frame.append method is deprecated and will be removed from pandas in a future version. Use pandas.concat instead.\n",
      "  result_df = result_df.append(results_mat[key])\n",
      "/var/folders/8g/qp1k_1g91m5f2m9pypxwxdhh0000gn/T/ipykernel_48246/1281457017.py:5: FutureWarning: The frame.append method is deprecated and will be removed from pandas in a future version. Use pandas.concat instead.\n",
      "  result_df = result_df.append(results_mat[key])\n",
      "/var/folders/8g/qp1k_1g91m5f2m9pypxwxdhh0000gn/T/ipykernel_48246/1281457017.py:5: FutureWarning: The frame.append method is deprecated and will be removed from pandas in a future version. Use pandas.concat instead.\n",
      "  result_df = result_df.append(results_mat[key])\n",
      "/var/folders/8g/qp1k_1g91m5f2m9pypxwxdhh0000gn/T/ipykernel_48246/1281457017.py:5: FutureWarning: The frame.append method is deprecated and will be removed from pandas in a future version. Use pandas.concat instead.\n",
      "  result_df = result_df.append(results_mat[key])\n",
      "/var/folders/8g/qp1k_1g91m5f2m9pypxwxdhh0000gn/T/ipykernel_48246/1281457017.py:5: FutureWarning: The frame.append method is deprecated and will be removed from pandas in a future version. Use pandas.concat instead.\n",
      "  result_df = result_df.append(results_mat[key])\n",
      "/var/folders/8g/qp1k_1g91m5f2m9pypxwxdhh0000gn/T/ipykernel_48246/1281457017.py:5: FutureWarning: The frame.append method is deprecated and will be removed from pandas in a future version. Use pandas.concat instead.\n",
      "  result_df = result_df.append(results_mat[key])\n",
      "/var/folders/8g/qp1k_1g91m5f2m9pypxwxdhh0000gn/T/ipykernel_48246/1281457017.py:5: FutureWarning: The frame.append method is deprecated and will be removed from pandas in a future version. Use pandas.concat instead.\n",
      "  result_df = result_df.append(results_mat[key])\n",
      "/var/folders/8g/qp1k_1g91m5f2m9pypxwxdhh0000gn/T/ipykernel_48246/1281457017.py:5: FutureWarning: The frame.append method is deprecated and will be removed from pandas in a future version. Use pandas.concat instead.\n",
      "  result_df = result_df.append(results_mat[key])\n",
      "/var/folders/8g/qp1k_1g91m5f2m9pypxwxdhh0000gn/T/ipykernel_48246/1281457017.py:5: FutureWarning: The frame.append method is deprecated and will be removed from pandas in a future version. Use pandas.concat instead.\n",
      "  result_df = result_df.append(results_mat[key])\n",
      "/var/folders/8g/qp1k_1g91m5f2m9pypxwxdhh0000gn/T/ipykernel_48246/1281457017.py:5: FutureWarning: The frame.append method is deprecated and will be removed from pandas in a future version. Use pandas.concat instead.\n",
      "  result_df = result_df.append(results_mat[key])\n"
     ]
    }
   ],
   "source": [
    "result_df = pd.DataFrame()\n",
    "\n",
    "for key in results_mat.keys():\n",
    "    results_mat[key]['time'] = key\n",
    "    result_df = result_df.append(results_mat[key])\n",
    "    "
   ]
  },
  {
   "cell_type": "code",
   "execution_count": null,
   "id": "95086c7f-ad2a-45f7-954e-b25f1923c909",
   "metadata": {},
   "outputs": [],
   "source": []
  },
  {
   "cell_type": "code",
   "execution_count": 474,
   "id": "f493cb5e-8484-43b7-87f9-d7694ce66529",
   "metadata": {},
   "outputs": [
    {
     "data": {
      "text/plain": [
       "array(['0800_thres_20', '0800_thres_30', '0800_increase_10',\n",
       "       '1100_thres_20', '1100_thres_30', '1500_thres_20', '1500_thres_30',\n",
       "       '1500_increase_10', '0900_sat_thres_20', '0900_sat_thres_30'],\n",
       "      dtype=object)"
      ]
     },
     "execution_count": 474,
     "metadata": {},
     "output_type": "execute_result"
    }
   ],
   "source": [
    "result_df['time'].unique()"
   ]
  },
  {
   "cell_type": "code",
   "execution_count": 477,
   "id": "f95c1342-42fb-4181-a60f-8bad21bcb02c",
   "metadata": {
    "tags": []
   },
   "outputs": [
    {
     "data": {
      "text/html": [
       "<div>\n",
       "<style scoped>\n",
       "    .dataframe tbody tr th:only-of-type {\n",
       "        vertical-align: middle;\n",
       "    }\n",
       "\n",
       "    .dataframe tbody tr th {\n",
       "        vertical-align: top;\n",
       "    }\n",
       "\n",
       "    .dataframe thead th {\n",
       "        text-align: right;\n",
       "    }\n",
       "</style>\n",
       "<table border=\"1\" class=\"dataframe\">\n",
       "  <thead>\n",
       "    <tr style=\"text-align: right;\">\n",
       "      <th></th>\n",
       "      <th>mat_quant</th>\n",
       "      <th>fromId</th>\n",
       "      <th>DAPOP2016</th>\n",
       "      <th>da_opioid_users</th>\n",
       "      <th>time</th>\n",
       "    </tr>\n",
       "  </thead>\n",
       "  <tbody>\n",
       "  </tbody>\n",
       "</table>\n",
       "</div>"
      ],
      "text/plain": [
       "Empty DataFrame\n",
       "Columns: [mat_quant, fromId, DAPOP2016, da_opioid_users, time]\n",
       "Index: []"
      ]
     },
     "execution_count": 477,
     "metadata": {},
     "output_type": "execute_result"
    }
   ],
   "source": [
    "result_df[result_df['time'] == '1100_increase_10']"
   ]
  },
  {
   "cell_type": "markdown",
   "id": "442cf204-c82a-427b-9bfb-01c172267b78",
   "metadata": {},
   "source": [
    "# soc_quant"
   ]
  },
  {
   "cell_type": "code",
   "execution_count": 478,
   "id": "6852130f-e9f3-4cc6-a2be-870be27dea03",
   "metadata": {},
   "outputs": [],
   "source": [
    "results_soc = {}\n",
    "for key in all_dfs.keys():\n",
    "    df = all_dfs[key]\n",
    "    \n",
    "    thres_20 = df[(df['tt_2019'] < 20) & (df['tt_2020'] >= 20)]\n",
    "    thres_30 = df[(df['tt_2019'] < 30) & (df['tt_2020'] >= 30)]\n",
    "    increase_10 = df[(df['diff'] >= 10)]\n",
    "    \n",
    "\n",
    "\n",
    "    count_da_thres_20 = thres_20.groupby('soc_quant')['fromId'].count().reset_index()\n",
    "    count_pop_thres_20 = thres_20.groupby('soc_quant')[['DAPOP2016', 'da_opioid_users']].sum().reset_index()\n",
    "\n",
    "    results_soc[key + '_thres_20'] = count_da_thres_20.merge(count_pop_thres_20, on='soc_quant')\n",
    "    \n",
    "    \n",
    "\n",
    "    \n",
    "    count_da_thres_30 = thres_30.groupby('soc_quant')['fromId'].count().reset_index()\n",
    "    count_pop_thres_30 = thres_30.groupby('soc_quant')[['DAPOP2016', 'da_opioid_users']].sum().reset_index()\n",
    "    \n",
    "    results_soc[key + '_thres_30'] = count_da_thres_30.merge(count_pop_thres_30, on='soc_quant')\n",
    "    \n",
    "    \n",
    "    \n",
    "\n",
    "    count_da_increase_10 = increase_10.groupby('soc_quant')['fromId'].count().reset_index()\n",
    "    count_pop_increase_10 = increase_10.groupby('soc_quant')[['DAPOP2016', 'da_opioid_users']].sum().reset_index()\n",
    "    \n",
    "    results_soc[key + '_increase_10'] = count_da_increase_10.merge(count_pop_increase_10, on='soc_quant')"
   ]
  },
  {
   "cell_type": "code",
   "execution_count": 479,
   "id": "408e8280-1c28-4d99-a325-ee88542c0de4",
   "metadata": {
    "tags": []
   },
   "outputs": [
    {
     "name": "stderr",
     "output_type": "stream",
     "text": [
      "/var/folders/8g/qp1k_1g91m5f2m9pypxwxdhh0000gn/T/ipykernel_48246/2028971951.py:5: FutureWarning: The frame.append method is deprecated and will be removed from pandas in a future version. Use pandas.concat instead.\n",
      "  result_df_soc = result_df_soc.append(results_soc[key])\n",
      "/var/folders/8g/qp1k_1g91m5f2m9pypxwxdhh0000gn/T/ipykernel_48246/2028971951.py:5: FutureWarning: The frame.append method is deprecated and will be removed from pandas in a future version. Use pandas.concat instead.\n",
      "  result_df_soc = result_df_soc.append(results_soc[key])\n",
      "/var/folders/8g/qp1k_1g91m5f2m9pypxwxdhh0000gn/T/ipykernel_48246/2028971951.py:5: FutureWarning: The frame.append method is deprecated and will be removed from pandas in a future version. Use pandas.concat instead.\n",
      "  result_df_soc = result_df_soc.append(results_soc[key])\n",
      "/var/folders/8g/qp1k_1g91m5f2m9pypxwxdhh0000gn/T/ipykernel_48246/2028971951.py:5: FutureWarning: The frame.append method is deprecated and will be removed from pandas in a future version. Use pandas.concat instead.\n",
      "  result_df_soc = result_df_soc.append(results_soc[key])\n",
      "/var/folders/8g/qp1k_1g91m5f2m9pypxwxdhh0000gn/T/ipykernel_48246/2028971951.py:5: FutureWarning: The frame.append method is deprecated and will be removed from pandas in a future version. Use pandas.concat instead.\n",
      "  result_df_soc = result_df_soc.append(results_soc[key])\n",
      "/var/folders/8g/qp1k_1g91m5f2m9pypxwxdhh0000gn/T/ipykernel_48246/2028971951.py:5: FutureWarning: The frame.append method is deprecated and will be removed from pandas in a future version. Use pandas.concat instead.\n",
      "  result_df_soc = result_df_soc.append(results_soc[key])\n",
      "/var/folders/8g/qp1k_1g91m5f2m9pypxwxdhh0000gn/T/ipykernel_48246/2028971951.py:5: FutureWarning: The frame.append method is deprecated and will be removed from pandas in a future version. Use pandas.concat instead.\n",
      "  result_df_soc = result_df_soc.append(results_soc[key])\n",
      "/var/folders/8g/qp1k_1g91m5f2m9pypxwxdhh0000gn/T/ipykernel_48246/2028971951.py:5: FutureWarning: The frame.append method is deprecated and will be removed from pandas in a future version. Use pandas.concat instead.\n",
      "  result_df_soc = result_df_soc.append(results_soc[key])\n",
      "/var/folders/8g/qp1k_1g91m5f2m9pypxwxdhh0000gn/T/ipykernel_48246/2028971951.py:5: FutureWarning: The frame.append method is deprecated and will be removed from pandas in a future version. Use pandas.concat instead.\n",
      "  result_df_soc = result_df_soc.append(results_soc[key])\n",
      "/var/folders/8g/qp1k_1g91m5f2m9pypxwxdhh0000gn/T/ipykernel_48246/2028971951.py:5: FutureWarning: The frame.append method is deprecated and will be removed from pandas in a future version. Use pandas.concat instead.\n",
      "  result_df_soc = result_df_soc.append(results_soc[key])\n",
      "/var/folders/8g/qp1k_1g91m5f2m9pypxwxdhh0000gn/T/ipykernel_48246/2028971951.py:5: FutureWarning: The frame.append method is deprecated and will be removed from pandas in a future version. Use pandas.concat instead.\n",
      "  result_df_soc = result_df_soc.append(results_soc[key])\n",
      "/var/folders/8g/qp1k_1g91m5f2m9pypxwxdhh0000gn/T/ipykernel_48246/2028971951.py:5: FutureWarning: The frame.append method is deprecated and will be removed from pandas in a future version. Use pandas.concat instead.\n",
      "  result_df_soc = result_df_soc.append(results_soc[key])\n"
     ]
    }
   ],
   "source": [
    "result_df_soc = pd.DataFrame()\n",
    "\n",
    "for key in results_soc.keys():\n",
    "    results_soc[key]['time'] = key\n",
    "    result_df_soc = result_df_soc.append(results_soc[key])\n",
    "    "
   ]
  },
  {
   "cell_type": "code",
   "execution_count": 480,
   "id": "98aba405-9a30-44fb-99ce-5fe62f8ea17a",
   "metadata": {},
   "outputs": [
    {
     "data": {
      "text/plain": [
       "array(['0800_thres_20', '0800_thres_30', '0800_increase_10',\n",
       "       '1100_thres_20', '1100_thres_30', '1500_thres_20', '1500_thres_30',\n",
       "       '1500_increase_10', '0900_sat_thres_20', '0900_sat_thres_30'],\n",
       "      dtype=object)"
      ]
     },
     "execution_count": 480,
     "metadata": {},
     "output_type": "execute_result"
    }
   ],
   "source": [
    "result_df_soc['time'].unique()"
   ]
  },
  {
   "cell_type": "code",
   "execution_count": 485,
   "id": "f29a5f8a-655b-44f4-8f5f-0b5845bd19fd",
   "metadata": {
    "tags": []
   },
   "outputs": [
    {
     "data": {
      "text/html": [
       "<div>\n",
       "<style scoped>\n",
       "    .dataframe tbody tr th:only-of-type {\n",
       "        vertical-align: middle;\n",
       "    }\n",
       "\n",
       "    .dataframe tbody tr th {\n",
       "        vertical-align: top;\n",
       "    }\n",
       "\n",
       "    .dataframe thead th {\n",
       "        text-align: right;\n",
       "    }\n",
       "</style>\n",
       "<table border=\"1\" class=\"dataframe\">\n",
       "  <thead>\n",
       "    <tr style=\"text-align: right;\">\n",
       "      <th></th>\n",
       "      <th>soc_quant</th>\n",
       "      <th>fromId</th>\n",
       "      <th>DAPOP2016</th>\n",
       "      <th>da_opioid_users</th>\n",
       "      <th>time</th>\n",
       "    </tr>\n",
       "  </thead>\n",
       "  <tbody>\n",
       "    <tr>\n",
       "      <th>0</th>\n",
       "      <td>1.0</td>\n",
       "      <td>1</td>\n",
       "      <td>1240.0</td>\n",
       "      <td>6.012142</td>\n",
       "      <td>1500_increase_10</td>\n",
       "    </tr>\n",
       "    <tr>\n",
       "      <th>1</th>\n",
       "      <td>3.0</td>\n",
       "      <td>1</td>\n",
       "      <td>451.0</td>\n",
       "      <td>14.484511</td>\n",
       "      <td>1500_increase_10</td>\n",
       "    </tr>\n",
       "  </tbody>\n",
       "</table>\n",
       "</div>"
      ],
      "text/plain": [
       "   soc_quant  fromId  DAPOP2016  da_opioid_users              time\n",
       "0        1.0       1     1240.0         6.012142  1500_increase_10\n",
       "1        3.0       1      451.0        14.484511  1500_increase_10"
      ]
     },
     "execution_count": 485,
     "metadata": {},
     "output_type": "execute_result"
    }
   ],
   "source": [
    "result_df_soc[result_df_soc['time'] == '1500_increase_10']"
   ]
  },
  {
   "cell_type": "code",
   "execution_count": null,
   "id": "e630ef73-f904-4b84-86f7-4ea3e9b032d6",
   "metadata": {},
   "outputs": [],
   "source": []
  },
  {
   "cell_type": "code",
   "execution_count": null,
   "id": "d71d5012-efe0-49bc-9857-c79482153df2",
   "metadata": {},
   "outputs": [],
   "source": []
  }
 ],
 "metadata": {
  "kernelspec": {
   "display_name": "Python 3 (ipykernel)",
   "language": "python",
   "name": "python3"
  },
  "language_info": {
   "codemirror_mode": {
    "name": "ipython",
    "version": 3
   },
   "file_extension": ".py",
   "mimetype": "text/x-python",
   "name": "python",
   "nbconvert_exporter": "python",
   "pygments_lexer": "ipython3",
   "version": "3.11.0"
  }
 },
 "nbformat": 4,
 "nbformat_minor": 5
}
