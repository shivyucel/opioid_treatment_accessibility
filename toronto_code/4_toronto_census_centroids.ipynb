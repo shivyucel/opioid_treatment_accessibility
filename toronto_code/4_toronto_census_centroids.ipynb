{
 "cells": [
  {
   "cell_type": "code",
   "execution_count": 1,
   "metadata": {},
   "outputs": [],
   "source": [
    "import geopandas as gpd"
   ]
  },
  {
   "cell_type": "markdown",
   "metadata": {},
   "source": [
    "Get centroids for DA census regions and create 3-column version (id, lon, lat) for r5r routing"
   ]
  },
  {
   "cell_type": "code",
   "execution_count": 2,
   "metadata": {},
   "outputs": [],
   "source": [
    "DA_shp = gpd.read_file('/Users/shivyucel/Documents/projects.nosync/opioid_accessibility/project/project_dir/data/toronto_data/toronto_shapes/DA_geometries/DA_shp.shp')"
   ]
  },
  {
   "cell_type": "code",
   "execution_count": 3,
   "metadata": {},
   "outputs": [
    {
     "name": "stderr",
     "output_type": "stream",
     "text": [
      "<ipython-input-3-7f8f2c2da5b4>:1: UserWarning: Geometry is in a geographic CRS. Results from 'centroid' are likely incorrect. Use 'GeoSeries.to_crs()' to re-project geometries to a projected CRS before this operation.\n",
      "\n",
      "  DA_shp['centroid'] = DA_shp['geometry'].centroid\n"
     ]
    }
   ],
   "source": [
    "DA_shp['centroid'] = DA_shp['geometry'].centroid\n",
    "DA_shp['lat'] = DA_shp['centroid'].y\n",
    "DA_shp['lon'] = DA_shp['centroid'].x\n",
    "\n",
    "DA_shp['lat'] = DA_shp['lat'].astype(float)\n",
    "DA_shp['lon'] = DA_shp['lon'].astype(float)"
   ]
  },
  {
   "cell_type": "code",
   "execution_count": 4,
   "metadata": {},
   "outputs": [],
   "source": [
    "DA_shp.rename(columns={'GeoUID': 'id'}, inplace=True)"
   ]
  },
  {
   "cell_type": "code",
   "execution_count": 5,
   "metadata": {},
   "outputs": [],
   "source": [
    "DA_shp = DA_shp[['id', 'lat', 'lon']]"
   ]
  },
  {
   "cell_type": "code",
   "execution_count": 16,
   "metadata": {},
   "outputs": [],
   "source": [
    "DA_shp.to_csv('/Users/shivyucel/Documents/projects.nosync/opioid_accessibility/project/project_dir/data/toronto_data/toronto_shapes/DA_centroids/DA_centroids.csv')"
   ]
  },
  {
   "cell_type": "code",
   "execution_count": null,
   "metadata": {},
   "outputs": [],
   "source": []
  }
 ],
 "metadata": {
  "interpreter": {
   "hash": "3000151dad639a5b884f482d55293518d422e78d7667ef7f9f66f3633cb45ad0"
  },
  "kernelspec": {
   "display_name": "Python 3.9.4 ('geo_env')",
   "language": "python",
   "name": "python3"
  },
  "language_info": {
   "codemirror_mode": {
    "name": "ipython",
    "version": 3
   },
   "file_extension": ".py",
   "mimetype": "text/x-python",
   "name": "python",
   "nbconvert_exporter": "python",
   "pygments_lexer": "ipython3",
   "version": "3.9.4"
  },
  "orig_nbformat": 4
 },
 "nbformat": 4,
 "nbformat_minor": 2
}
