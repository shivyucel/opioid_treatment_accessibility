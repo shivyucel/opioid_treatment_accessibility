{
 "cells": [
  {
   "cell_type": "code",
   "execution_count": 1,
   "id": "64d1fe21-fdc5-4630-acf0-3ee39785cc45",
   "metadata": {},
   "outputs": [],
   "source": [
    "import geopandas as gpd\n",
    "import pandas as pd\n",
    "import matplotlib.pyplot as plt\n",
    "from scipy.stats import pearsonr\n",
    "data_dir = '/Users/shivyucel/Documents/projects.nosync/opioid_accessibility/opioid_accessibility/data/toronto_data/'"
   ]
  },
  {
   "cell_type": "code",
   "execution_count": 9,
   "id": "bbd98547-bdca-49f7-9ad5-00c017cb16bf",
   "metadata": {},
   "outputs": [],
   "source": [
    "df = gpd.read_file('/Users/shivyucel/Downloads/orthophoto-imagery-2015/orthophoto-imagery-2015.shp')"
   ]
  },
  {
   "cell_type": "code",
   "execution_count": 12,
   "id": "e9e040cd-0fa4-479a-9827-de3a6ab309eb",
   "metadata": {},
   "outputs": [
    {
     "data": {
      "text/html": [
       "<div>\n",
       "<style scoped>\n",
       "    .dataframe tbody tr th:only-of-type {\n",
       "        vertical-align: middle;\n",
       "    }\n",
       "\n",
       "    .dataframe tbody tr th {\n",
       "        vertical-align: top;\n",
       "    }\n",
       "\n",
       "    .dataframe thead th {\n",
       "        text-align: right;\n",
       "    }\n",
       "</style>\n",
       "<table border=\"1\" class=\"dataframe\">\n",
       "  <thead>\n",
       "    <tr style=\"text-align: right;\">\n",
       "      <th></th>\n",
       "      <th>name</th>\n",
       "      <th>mrsid_url</th>\n",
       "      <th>ecw_url</th>\n",
       "      <th>geometry</th>\n",
       "    </tr>\n",
       "  </thead>\n",
       "  <tbody>\n",
       "    <tr>\n",
       "      <th>0</th>\n",
       "      <td>BCVANC15_B11</td>\n",
       "      <td>https://webtransfer.vancouver.ca/opendata/2015...</td>\n",
       "      <td>https://webtransfer.vancouver.ca/opendata/2015...</td>\n",
       "      <td>POLYGON ((-123.26524 49.26726, -123.26526 49.2...</td>\n",
       "    </tr>\n",
       "    <tr>\n",
       "      <th>1</th>\n",
       "      <td>BCVANC15_B13</td>\n",
       "      <td>https://webtransfer.vancouver.ca/opendata/2015...</td>\n",
       "      <td>https://webtransfer.vancouver.ca/opendata/2015...</td>\n",
       "      <td>POLYGON ((-123.26519 49.25826, -123.26521 49.2...</td>\n",
       "    </tr>\n",
       "    <tr>\n",
       "      <th>2</th>\n",
       "      <td>BCVANC15_B14</td>\n",
       "      <td>https://webtransfer.vancouver.ca/opendata/2015...</td>\n",
       "      <td>https://webtransfer.vancouver.ca/opendata/2015...</td>\n",
       "      <td>POLYGON ((-123.26516 49.25377, -123.26519 49.2...</td>\n",
       "    </tr>\n",
       "    <tr>\n",
       "      <th>3</th>\n",
       "      <td>BCVANC15_B15</td>\n",
       "      <td>https://webtransfer.vancouver.ca/opendata/2015...</td>\n",
       "      <td>https://webtransfer.vancouver.ca/opendata/2015...</td>\n",
       "      <td>POLYGON ((-123.26514 49.24927, -123.26516 49.2...</td>\n",
       "    </tr>\n",
       "    <tr>\n",
       "      <th>4</th>\n",
       "      <td>BCVANC15_B17</td>\n",
       "      <td>https://webtransfer.vancouver.ca/opendata/2015...</td>\n",
       "      <td>https://webtransfer.vancouver.ca/opendata/2015...</td>\n",
       "      <td>POLYGON ((-123.26509 49.24027, -123.26511 49.2...</td>\n",
       "    </tr>\n",
       "    <tr>\n",
       "      <th>...</th>\n",
       "      <td>...</td>\n",
       "      <td>...</td>\n",
       "      <td>...</td>\n",
       "      <td>...</td>\n",
       "    </tr>\n",
       "    <tr>\n",
       "      <th>458</th>\n",
       "      <td>BCVANC15_W6</td>\n",
       "      <td>https://webtransfer.vancouver.ca/opendata/2015...</td>\n",
       "      <td>https://webtransfer.vancouver.ca/opendata/2015...</td>\n",
       "      <td>POLYGON ((-123.03432 49.29005, -123.03433 49.2...</td>\n",
       "    </tr>\n",
       "    <tr>\n",
       "      <th>459</th>\n",
       "      <td>BCVANC15_W9</td>\n",
       "      <td>https://webtransfer.vancouver.ca/opendata/2015...</td>\n",
       "      <td>https://webtransfer.vancouver.ca/opendata/2015...</td>\n",
       "      <td>POLYGON ((-123.03431 49.27655, -123.03432 49.2...</td>\n",
       "    </tr>\n",
       "    <tr>\n",
       "      <th>460</th>\n",
       "      <td>BCVANC15_X16</td>\n",
       "      <td>https://webtransfer.vancouver.ca/opendata/2015...</td>\n",
       "      <td>https://webtransfer.vancouver.ca/opendata/2015...</td>\n",
       "      <td>POLYGON ((-123.02330 49.24507, -123.02330 49.2...</td>\n",
       "    </tr>\n",
       "    <tr>\n",
       "      <th>461</th>\n",
       "      <td>BCVANC15_X26</td>\n",
       "      <td>https://webtransfer.vancouver.ca/opendata/2015...</td>\n",
       "      <td>https://webtransfer.vancouver.ca/opendata/2015...</td>\n",
       "      <td>POLYGON ((-123.02328 49.20010, -123.02328 49.2...</td>\n",
       "    </tr>\n",
       "    <tr>\n",
       "      <th>462</th>\n",
       "      <td>BCVANC15_X27</td>\n",
       "      <td>https://webtransfer.vancouver.ca/opendata/2015...</td>\n",
       "      <td>https://webtransfer.vancouver.ca/opendata/2015...</td>\n",
       "      <td>POLYGON ((-123.02328 49.19560, -123.02328 49.2...</td>\n",
       "    </tr>\n",
       "  </tbody>\n",
       "</table>\n",
       "<p>463 rows × 4 columns</p>\n",
       "</div>"
      ],
      "text/plain": [
       "             name                                          mrsid_url  \\\n",
       "0    BCVANC15_B11  https://webtransfer.vancouver.ca/opendata/2015...   \n",
       "1    BCVANC15_B13  https://webtransfer.vancouver.ca/opendata/2015...   \n",
       "2    BCVANC15_B14  https://webtransfer.vancouver.ca/opendata/2015...   \n",
       "3    BCVANC15_B15  https://webtransfer.vancouver.ca/opendata/2015...   \n",
       "4    BCVANC15_B17  https://webtransfer.vancouver.ca/opendata/2015...   \n",
       "..            ...                                                ...   \n",
       "458   BCVANC15_W6  https://webtransfer.vancouver.ca/opendata/2015...   \n",
       "459   BCVANC15_W9  https://webtransfer.vancouver.ca/opendata/2015...   \n",
       "460  BCVANC15_X16  https://webtransfer.vancouver.ca/opendata/2015...   \n",
       "461  BCVANC15_X26  https://webtransfer.vancouver.ca/opendata/2015...   \n",
       "462  BCVANC15_X27  https://webtransfer.vancouver.ca/opendata/2015...   \n",
       "\n",
       "                                               ecw_url  \\\n",
       "0    https://webtransfer.vancouver.ca/opendata/2015...   \n",
       "1    https://webtransfer.vancouver.ca/opendata/2015...   \n",
       "2    https://webtransfer.vancouver.ca/opendata/2015...   \n",
       "3    https://webtransfer.vancouver.ca/opendata/2015...   \n",
       "4    https://webtransfer.vancouver.ca/opendata/2015...   \n",
       "..                                                 ...   \n",
       "458  https://webtransfer.vancouver.ca/opendata/2015...   \n",
       "459  https://webtransfer.vancouver.ca/opendata/2015...   \n",
       "460  https://webtransfer.vancouver.ca/opendata/2015...   \n",
       "461  https://webtransfer.vancouver.ca/opendata/2015...   \n",
       "462  https://webtransfer.vancouver.ca/opendata/2015...   \n",
       "\n",
       "                                              geometry  \n",
       "0    POLYGON ((-123.26524 49.26726, -123.26526 49.2...  \n",
       "1    POLYGON ((-123.26519 49.25826, -123.26521 49.2...  \n",
       "2    POLYGON ((-123.26516 49.25377, -123.26519 49.2...  \n",
       "3    POLYGON ((-123.26514 49.24927, -123.26516 49.2...  \n",
       "4    POLYGON ((-123.26509 49.24027, -123.26511 49.2...  \n",
       "..                                                 ...  \n",
       "458  POLYGON ((-123.03432 49.29005, -123.03433 49.2...  \n",
       "459  POLYGON ((-123.03431 49.27655, -123.03432 49.2...  \n",
       "460  POLYGON ((-123.02330 49.24507, -123.02330 49.2...  \n",
       "461  POLYGON ((-123.02328 49.20010, -123.02328 49.2...  \n",
       "462  POLYGON ((-123.02328 49.19560, -123.02328 49.2...  \n",
       "\n",
       "[463 rows x 4 columns]"
      ]
     },
     "execution_count": 12,
     "metadata": {},
     "output_type": "execute_result"
    }
   ],
   "source": [
    "df"
   ]
  },
  {
   "cell_type": "code",
   "execution_count": 13,
   "id": "0b07fb8c-de28-47fa-9c83-62eeabd545e6",
   "metadata": {},
   "outputs": [
    {
     "data": {
      "text/plain": [
       "<AxesSubplot:>"
      ]
     },
     "execution_count": 13,
     "metadata": {},
     "output_type": "execute_result"
    },
    {
     "data": {
      "image/png": "[encoded data removed]",
      "text/plain": [
       "<Figure size 720x720 with 1 Axes>"
      ]
     },
     "metadata": {
      "needs_background": "light"
     },
     "output_type": "display_data"
    }
   ],
   "source": [
    "df.plot(figsize=(10,10))"
   ]
  },
  {
   "cell_type": "markdown",
   "id": "94ddee36-837f-4fcb-958b-acca8d50e8b7",
   "metadata": {},
   "source": [
    "## No Car"
   ]
  },
  {
   "cell_type": "code",
   "execution_count": 90,
   "id": "e2b8d5f0-4098-453a-9f7c-12ed473a69a2",
   "metadata": {},
   "outputs": [],
   "source": [
    "df = gpd.read_file('/Users/shivyucel/Documents/projects.nosync/opioid_accessibility/opioid_accessibility/data/toronto_data/clean_files/clean_times/clean_times.shp')"
   ]
  },
  {
   "cell_type": "code",
   "execution_count": 82,
   "id": "d7122c1e-ad7b-4bbf-8a60-c9b7b4a9fea8",
   "metadata": {},
   "outputs": [],
   "source": [
    "df['propor_nocar'] = df['pop_nocar'] / df['pop']"
   ]
  },
  {
   "cell_type": "code",
   "execution_count": 83,
   "id": "20cba665-8791-4dfd-8b6b-3b6e2434642c",
   "metadata": {},
   "outputs": [],
   "source": [
    "car_cut = df[['wed_0800', 'sat_0900', 'wed_1100', 'wed_1500', 'propor_nocar']]"
   ]
  },
  {
   "cell_type": "code",
   "execution_count": 86,
   "id": "4570b010-81b8-4587-ac45-35e855a9fb3e",
   "metadata": {},
   "outputs": [],
   "source": [
    "car_cut.dropna(inplace=True)"
   ]
  },
  {
   "cell_type": "code",
   "execution_count": 87,
   "id": "526d419c-0adc-4c55-a02b-fd9f75715529",
   "metadata": {},
   "outputs": [
    {
     "name": "stdout",
     "output_type": "stream",
     "text": [
      "(-0.06666222684883528, 5.2973748751814764e-05)\n",
      "(0.013566241910251303, 0.4112363302944228)\n",
      "(-0.08840750412959066, 8.086580990182677e-08)\n",
      "(0.043277161021452695, 0.008730112412640167)\n"
     ]
    }
   ],
   "source": [
    "print(pearsonr(car_cut[\"wed_0800\"], car_cut['propor_nocar']))\n",
    "\n",
    "print(pearsonr(car_cut[\"wed_1100\"], car_cut['propor_nocar']))\n",
    "\n",
    "print(pearsonr(car_cut[\"wed_1500\"], car_cut['propor_nocar']))\n",
    "\n",
    "print(pearsonr(car_cut[\"sat_0900\"], car_cut['propor_nocar']))"
   ]
  },
  {
   "cell_type": "markdown",
   "id": "65431424-e900-446c-a17a-08dabdbdd78c",
   "metadata": {},
   "source": [
    "## Low-Income Cutoff"
   ]
  },
  {
   "cell_type": "code",
   "execution_count": 76,
   "id": "1a0bc810-0510-4ffe-a357-30cfecc7aa06",
   "metadata": {},
   "outputs": [],
   "source": [
    "df = gpd.read_file('/Users/shivyucel/Documents/projects.nosync/opioid_accessibility/opioid_accessibility/data/toronto_data/clean_files/clean_times/clean_times.shp')"
   ]
  },
  {
   "cell_type": "code",
   "execution_count": 77,
   "id": "4cd30372-cfa4-49af-8f7c-c237ef932ff9",
   "metadata": {},
   "outputs": [],
   "source": [
    "df['propor_low_income'] = df['low_inc'] / df['pop']"
   ]
  },
  {
   "cell_type": "code",
   "execution_count": 78,
   "id": "817653d5-3255-4f69-96aa-9395c8d337f7",
   "metadata": {},
   "outputs": [],
   "source": [
    "inc_cut = df[['wed_0800', 'sat_0900', 'wed_1100', 'wed_1500', 'propor_low_income']]"
   ]
  },
  {
   "cell_type": "code",
   "execution_count": 79,
   "id": "22efaac0-7355-4592-8744-ea7f27d22c5e",
   "metadata": {},
   "outputs": [
    {
     "name": "stderr",
     "output_type": "stream",
     "text": [
      "/Users/shivyucel/anaconda3/envs/geo_env/lib/python3.9/site-packages/pandas/util/_decorators.py:311: SettingWithCopyWarning: \n",
      "A value is trying to be set on a copy of a slice from a DataFrame\n",
      "\n",
      "See the caveats in the documentation: https://pandas.pydata.org/pandas-docs/stable/user_guide/indexing.html#returning-a-view-versus-a-copy\n",
      "  return func(*args, **kwargs)\n"
     ]
    }
   ],
   "source": [
    "inc_cut.dropna(inplace=True)"
   ]
  },
  {
   "cell_type": "code",
   "execution_count": 80,
   "id": "7b1071ce-f081-4a8a-b88c-dce63847f580",
   "metadata": {},
   "outputs": [
    {
     "name": "stdout",
     "output_type": "stream",
     "text": [
      "(-0.08260039418132359, 6.180349555295752e-07)\n",
      "(-0.044676750428143126, 0.007075256778823642)\n",
      "(-0.06168409796782614, 0.0001990385205464951)\n",
      "(0.022277866825542694, 0.1794375066565603)\n"
     ]
    }
   ],
   "source": [
    "print(pearsonr(inc_cut[\"wed_0800\"], inc_cut['propor_low_income']))\n",
    "\n",
    "print(pearsonr(inc_cut[\"wed_1100\"], inc_cut['propor_low_income']))\n",
    "\n",
    "print(pearsonr(inc_cut[\"wed_1500\"], inc_cut['propor_low_income']))\n",
    "\n",
    "print(pearsonr(inc_cut[\"sat_0900\"], inc_cut['propor_low_income']))"
   ]
  },
  {
   "cell_type": "markdown",
   "id": "2376025e-cf7f-4290-ac38-e3734f648451",
   "metadata": {},
   "source": [
    "### Average Age and Immigration"
   ]
  },
  {
   "cell_type": "code",
   "execution_count": 114,
   "id": "0eb69948-1ffb-47af-9292-2cacad1f8073",
   "metadata": {},
   "outputs": [],
   "source": [
    "df = gpd.read_file('/Users/shivyucel/Documents/projects.nosync/opioid_accessibility/opioid_accessibility/data/toronto_data/clean_files/clean_times/clean_times.shp')"
   ]
  },
  {
   "cell_type": "code",
   "execution_count": 115,
   "id": "97483eae-071d-4fb7-8947-3888e5cc3060",
   "metadata": {},
   "outputs": [],
   "source": [
    "census = pd.read_csv('/Users/shivyucel/Documents/projects.nosync/opioid_accessibility/opioid_accessibility/data/toronto_data/census_data/age_newcomer.csv')"
   ]
  },
  {
   "cell_type": "code",
   "execution_count": 116,
   "id": "a08de2e9-7813-4c0a-bef1-cef120388df6",
   "metadata": {},
   "outputs": [
    {
     "data": {
      "text/plain": [
       "Index(['GeoUID', 'Type', 'Region Name', 'Area (sq km)', 'Population',\n",
       "       'Dwellings', 'Households', 'CSD_UID', 'CD_UID', 'CT_UID', 'CMA_UID',\n",
       "       'v_CA16_379: Average age',\n",
       "       'v_CA16_3636: Total - Selected places of birth for the recent immigrant population in private households - 25% sample data'],\n",
       "      dtype='object')"
      ]
     },
     "execution_count": 116,
     "metadata": {},
     "output_type": "execute_result"
    }
   ],
   "source": [
    "census.columns"
   ]
  },
  {
   "cell_type": "code",
   "execution_count": 117,
   "id": "840e5162-4cfe-4f2f-a4eb-f206cda8952c",
   "metadata": {},
   "outputs": [],
   "source": [
    "census = census[['GeoUID', 'v_CA16_379: Average age', 'v_CA16_3636: Total - Selected places of birth for the recent immigrant population in private households - 25% sample data']]"
   ]
  },
  {
   "cell_type": "code",
   "execution_count": 118,
   "id": "e7c6010e-4ec0-479d-8bc6-ac4153c50a30",
   "metadata": {},
   "outputs": [],
   "source": [
    "census.columns = ['DAUID', 'avg_age', 'recent_imm']"
   ]
  },
  {
   "cell_type": "code",
   "execution_count": 119,
   "id": "dad61777-b4b6-42e4-87af-5427b3ee1097",
   "metadata": {},
   "outputs": [],
   "source": [
    "df = df.merge(census, on='DAUID')"
   ]
  },
  {
   "cell_type": "markdown",
   "id": "55606793-79eb-4196-b006-830c1d32a196",
   "metadata": {},
   "source": [
    "## age"
   ]
  },
  {
   "cell_type": "code",
   "execution_count": 123,
   "id": "694dee19-34bc-41c3-a383-5c485fdbce2d",
   "metadata": {},
   "outputs": [],
   "source": [
    "age_cut = df[['wed_0800', 'sat_0900', 'wed_1100', 'wed_1500', 'avg_age']]"
   ]
  },
  {
   "cell_type": "code",
   "execution_count": 125,
   "id": "2f01d514-7a68-496d-9970-91c9824f5d35",
   "metadata": {},
   "outputs": [
    {
     "name": "stderr",
     "output_type": "stream",
     "text": [
      "/Users/shivyucel/anaconda3/envs/geo_env/lib/python3.9/site-packages/pandas/util/_decorators.py:311: SettingWithCopyWarning: \n",
      "A value is trying to be set on a copy of a slice from a DataFrame\n",
      "\n",
      "See the caveats in the documentation: https://pandas.pydata.org/pandas-docs/stable/user_guide/indexing.html#returning-a-view-versus-a-copy\n",
      "  return func(*args, **kwargs)\n"
     ]
    }
   ],
   "source": [
    "age_cut.dropna(inplace=True)"
   ]
  },
  {
   "cell_type": "code",
   "execution_count": 126,
   "id": "4d8bf27d-918a-409c-bb8b-f9e3ee2d8d82",
   "metadata": {},
   "outputs": [
    {
     "name": "stdout",
     "output_type": "stream",
     "text": [
      "(0.05673626975315289, 0.0005764479548447546)\n",
      "(0.03624883176795578, 0.027924845312792292)\n",
      "(0.054394027302261026, 0.0009663998781541687)\n",
      "(-0.03032720570253891, 0.06590971578473702)\n"
     ]
    }
   ],
   "source": [
    "print(pearsonr(age_cut[\"wed_0800\"], age_cut['avg_age']))\n",
    "\n",
    "print(pearsonr(age_cut[\"wed_1100\"], age_cut['avg_age']))\n",
    "\n",
    "print(pearsonr(age_cut[\"wed_1500\"], age_cut['avg_age']))\n",
    "\n",
    "print(pearsonr(age_cut[\"sat_0900\"], age_cut['avg_age']))"
   ]
  },
  {
   "cell_type": "markdown",
   "id": "e66be4eb-b10c-4eeb-89b3-1b0679be8531",
   "metadata": {},
   "source": [
    "## immigration"
   ]
  },
  {
   "cell_type": "code",
   "execution_count": 128,
   "id": "c3e19371-ca4d-4f6d-b1d3-97767586cbef",
   "metadata": {},
   "outputs": [],
   "source": [
    "df['imm_propor'] = df['recent_imm'] / df['pop']"
   ]
  },
  {
   "cell_type": "code",
   "execution_count": 129,
   "id": "b7d4c767-6934-4ce9-b786-e943a76d765c",
   "metadata": {},
   "outputs": [],
   "source": [
    "imm_cut = df[['wed_0800', 'sat_0900', 'wed_1100', 'wed_1500', 'imm_propor']]"
   ]
  },
  {
   "cell_type": "code",
   "execution_count": 130,
   "id": "07953732-8f3e-4abc-9973-311f83efcb87",
   "metadata": {},
   "outputs": [
    {
     "name": "stderr",
     "output_type": "stream",
     "text": [
      "/Users/shivyucel/anaconda3/envs/geo_env/lib/python3.9/site-packages/pandas/util/_decorators.py:311: SettingWithCopyWarning: \n",
      "A value is trying to be set on a copy of a slice from a DataFrame\n",
      "\n",
      "See the caveats in the documentation: https://pandas.pydata.org/pandas-docs/stable/user_guide/indexing.html#returning-a-view-versus-a-copy\n",
      "  return func(*args, **kwargs)\n"
     ]
    }
   ],
   "source": [
    "imm_cut.dropna(inplace=True)"
   ]
  },
  {
   "cell_type": "code",
   "execution_count": 131,
   "id": "891ba0d2-deee-4573-9b00-79036b935d6a",
   "metadata": {},
   "outputs": [
    {
     "name": "stdout",
     "output_type": "stream",
     "text": [
      "(-0.05376169134152786, 0.0011039629314790955)\n",
      "(-0.0389807138891977, 0.018040658767064344)\n",
      "(-0.01895835457684777, 0.2502331155276553)\n",
      "(-0.02506609726005397, 0.12843383094035674)\n"
     ]
    }
   ],
   "source": [
    "print(pearsonr(imm_cut[\"wed_0800\"], imm_cut['imm_propor']))\n",
    "\n",
    "print(pearsonr(imm_cut[\"wed_1100\"], imm_cut['imm_propor']))\n",
    "\n",
    "print(pearsonr(imm_cut[\"wed_1500\"], imm_cut['imm_propor']))\n",
    "\n",
    "print(pearsonr(imm_cut[\"sat_0900\"], imm_cut['imm_propor']))"
   ]
  }
 ],
 "metadata": {
  "kernelspec": {
   "display_name": "Python 3",
   "language": "python",
   "name": "python3"
  },
  "language_info": {
   "codemirror_mode": {
    "name": "ipython",
    "version": 3
   },
   "file_extension": ".py",
   "mimetype": "text/x-python",
   "name": "python",
   "nbconvert_exporter": "python",
   "pygments_lexer": "ipython3",
   "version": "3.9.4"
  }
 },
 "nbformat": 4,
 "nbformat_minor": 5
}
